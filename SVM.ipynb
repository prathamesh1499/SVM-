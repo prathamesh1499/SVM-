{
  "nbformat": 4,
  "nbformat_minor": 0,
  "metadata": {
    "colab": {
      "name": "practice_tp_ml.ipynb",
      "provenance": [],
      "toc_visible": true
    },
    "kernelspec": {
      "name": "python3",
      "display_name": "Python 3"
    }
  },
  "cells": [
    {
      "cell_type": "markdown",
      "metadata": {
        "id": "bvgZLMvw_3Il",
        "colab_type": "text"
      },
      "source": [
        "# Dataset link - https://www.kaggle.com/shivam2503/diamonds"
      ]
    },
    {
      "cell_type": "code",
      "metadata": {
        "id": "C4UfEXtOnaig",
        "colab_type": "code",
        "colab": {}
      },
      "source": [
        "  import pandas as pd "
      ],
      "execution_count": 0,
      "outputs": []
    },
    {
      "cell_type": "code",
      "metadata": {
        "id": "wNNZ5Ahm3U8k",
        "colab_type": "code",
        "colab": {}
      },
      "source": [
        "df = pd.read_csv(\"diamonds.csv\",index_col=0)"
      ],
      "execution_count": 0,
      "outputs": []
    },
    {
      "cell_type": "code",
      "metadata": {
        "id": "vTa-qlxm348Z",
        "colab_type": "code",
        "outputId": "5ad1864a-27d5-4f64-de5e-9fbb9c7aa087",
        "colab": {
          "base_uri": "https://localhost:8080/",
          "height": 197
        }
      },
      "source": [
        "df.head()"
      ],
      "execution_count": 3,
      "outputs": [
        {
          "output_type": "execute_result",
          "data": {
            "text/html": [
              "<div>\n",
              "<style scoped>\n",
              "    .dataframe tbody tr th:only-of-type {\n",
              "        vertical-align: middle;\n",
              "    }\n",
              "\n",
              "    .dataframe tbody tr th {\n",
              "        vertical-align: top;\n",
              "    }\n",
              "\n",
              "    .dataframe thead th {\n",
              "        text-align: right;\n",
              "    }\n",
              "</style>\n",
              "<table border=\"1\" class=\"dataframe\">\n",
              "  <thead>\n",
              "    <tr style=\"text-align: right;\">\n",
              "      <th></th>\n",
              "      <th>carat</th>\n",
              "      <th>cut</th>\n",
              "      <th>color</th>\n",
              "      <th>clarity</th>\n",
              "      <th>depth</th>\n",
              "      <th>table</th>\n",
              "      <th>price</th>\n",
              "      <th>x</th>\n",
              "      <th>y</th>\n",
              "      <th>z</th>\n",
              "    </tr>\n",
              "  </thead>\n",
              "  <tbody>\n",
              "    <tr>\n",
              "      <th>1</th>\n",
              "      <td>0.23</td>\n",
              "      <td>Ideal</td>\n",
              "      <td>E</td>\n",
              "      <td>SI2</td>\n",
              "      <td>61.5</td>\n",
              "      <td>55.0</td>\n",
              "      <td>326</td>\n",
              "      <td>3.95</td>\n",
              "      <td>3.98</td>\n",
              "      <td>2.43</td>\n",
              "    </tr>\n",
              "    <tr>\n",
              "      <th>2</th>\n",
              "      <td>0.21</td>\n",
              "      <td>Premium</td>\n",
              "      <td>E</td>\n",
              "      <td>SI1</td>\n",
              "      <td>59.8</td>\n",
              "      <td>61.0</td>\n",
              "      <td>326</td>\n",
              "      <td>3.89</td>\n",
              "      <td>3.84</td>\n",
              "      <td>2.31</td>\n",
              "    </tr>\n",
              "    <tr>\n",
              "      <th>3</th>\n",
              "      <td>0.23</td>\n",
              "      <td>Good</td>\n",
              "      <td>E</td>\n",
              "      <td>VS1</td>\n",
              "      <td>56.9</td>\n",
              "      <td>65.0</td>\n",
              "      <td>327</td>\n",
              "      <td>4.05</td>\n",
              "      <td>4.07</td>\n",
              "      <td>2.31</td>\n",
              "    </tr>\n",
              "    <tr>\n",
              "      <th>4</th>\n",
              "      <td>0.29</td>\n",
              "      <td>Premium</td>\n",
              "      <td>I</td>\n",
              "      <td>VS2</td>\n",
              "      <td>62.4</td>\n",
              "      <td>58.0</td>\n",
              "      <td>334</td>\n",
              "      <td>4.20</td>\n",
              "      <td>4.23</td>\n",
              "      <td>2.63</td>\n",
              "    </tr>\n",
              "    <tr>\n",
              "      <th>5</th>\n",
              "      <td>0.31</td>\n",
              "      <td>Good</td>\n",
              "      <td>J</td>\n",
              "      <td>SI2</td>\n",
              "      <td>63.3</td>\n",
              "      <td>58.0</td>\n",
              "      <td>335</td>\n",
              "      <td>4.34</td>\n",
              "      <td>4.35</td>\n",
              "      <td>2.75</td>\n",
              "    </tr>\n",
              "  </tbody>\n",
              "</table>\n",
              "</div>"
            ],
            "text/plain": [
              "   carat      cut color clarity  depth  table  price     x     y     z\n",
              "1   0.23    Ideal     E     SI2   61.5   55.0    326  3.95  3.98  2.43\n",
              "2   0.21  Premium     E     SI1   59.8   61.0    326  3.89  3.84  2.31\n",
              "3   0.23     Good     E     VS1   56.9   65.0    327  4.05  4.07  2.31\n",
              "4   0.29  Premium     I     VS2   62.4   58.0    334  4.20  4.23  2.63\n",
              "5   0.31     Good     J     SI2   63.3   58.0    335  4.34  4.35  2.75"
            ]
          },
          "metadata": {
            "tags": []
          },
          "execution_count": 3
        }
      ]
    },
    {
      "cell_type": "code",
      "metadata": {
        "id": "KLYIFHjT4NX4",
        "colab_type": "code",
        "outputId": "71250ce9-3c4d-4561-afc6-964a680a25c4",
        "colab": {
          "base_uri": "https://localhost:8080/",
          "height": 34
        }
      },
      "source": [
        " df[\"cut\"].unique()"
      ],
      "execution_count": 4,
      "outputs": [
        {
          "output_type": "execute_result",
          "data": {
            "text/plain": [
              "array(['Ideal', 'Premium', 'Good', 'Very Good', 'Fair'], dtype=object)"
            ]
          },
          "metadata": {
            "tags": []
          },
          "execution_count": 4
        }
      ]
    },
    {
      "cell_type": "markdown",
      "metadata": {
        "id": "Wndy1H5TAf1m",
        "colab_type": "text"
      },
      "source": [
        "*#Now we convert cut,color,clarity into digits so that we can apply ml models*"
      ]
    },
    {
      "cell_type": "code",
      "metadata": {
        "id": "n_L1c2T9_jtf",
        "colab_type": "code",
        "colab": {}
      },
      "source": [
        "cut_class_dict = {\"Fair\":1,\"Good\":2,\"Very Good\":3,\"Premium\":4,\"Ideal\":5}\n",
        "clarity_dict = {\"I3\": 1, \"I2\": 2, \"I1\": 3, \"SI2\": 4, \"SI1\": 5, \"VS2\": 6, \"VS1\": 7, \"VVS2\": 8, \"VVS1\": 9, \"IF\": 10, \"FL\": 11}\n",
        "color_dict = {\"J\": 1,\"I\": 2,\"H\": 3,\"G\": 4,\"F\": 5,\"E\": 6,\"D\": 7}"
      ],
      "execution_count": 0,
      "outputs": []
    },
    {
      "cell_type": "markdown",
      "metadata": {
        "id": "rKgfiz_1BccH",
        "colab_type": "text"
      },
      "source": [
        "#now we map"
      ]
    },
    {
      "cell_type": "code",
      "metadata": {
        "id": "uUcvo2UQ_98f",
        "colab_type": "code",
        "colab": {}
      },
      "source": [
        "df['cut']=df['cut'].map(cut_class_dict)\n",
        "df['clarity']=df['clarity'].map(clarity_dict)\n",
        "df['color']=df['color'].map(color_dict)"
      ],
      "execution_count": 0,
      "outputs": []
    },
    {
      "cell_type": "code",
      "metadata": {
        "id": "eHfe5K5mB66N",
        "colab_type": "code",
        "outputId": "354b4a69-a32e-4d41-bb7b-c82568908f3d",
        "colab": {
          "base_uri": "https://localhost:8080/",
          "height": 197
        }
      },
      "source": [
        "df.head()"
      ],
      "execution_count": 7,
      "outputs": [
        {
          "output_type": "execute_result",
          "data": {
            "text/html": [
              "<div>\n",
              "<style scoped>\n",
              "    .dataframe tbody tr th:only-of-type {\n",
              "        vertical-align: middle;\n",
              "    }\n",
              "\n",
              "    .dataframe tbody tr th {\n",
              "        vertical-align: top;\n",
              "    }\n",
              "\n",
              "    .dataframe thead th {\n",
              "        text-align: right;\n",
              "    }\n",
              "</style>\n",
              "<table border=\"1\" class=\"dataframe\">\n",
              "  <thead>\n",
              "    <tr style=\"text-align: right;\">\n",
              "      <th></th>\n",
              "      <th>carat</th>\n",
              "      <th>cut</th>\n",
              "      <th>color</th>\n",
              "      <th>clarity</th>\n",
              "      <th>depth</th>\n",
              "      <th>table</th>\n",
              "      <th>price</th>\n",
              "      <th>x</th>\n",
              "      <th>y</th>\n",
              "      <th>z</th>\n",
              "    </tr>\n",
              "  </thead>\n",
              "  <tbody>\n",
              "    <tr>\n",
              "      <th>1</th>\n",
              "      <td>0.23</td>\n",
              "      <td>5</td>\n",
              "      <td>6</td>\n",
              "      <td>4</td>\n",
              "      <td>61.5</td>\n",
              "      <td>55.0</td>\n",
              "      <td>326</td>\n",
              "      <td>3.95</td>\n",
              "      <td>3.98</td>\n",
              "      <td>2.43</td>\n",
              "    </tr>\n",
              "    <tr>\n",
              "      <th>2</th>\n",
              "      <td>0.21</td>\n",
              "      <td>4</td>\n",
              "      <td>6</td>\n",
              "      <td>5</td>\n",
              "      <td>59.8</td>\n",
              "      <td>61.0</td>\n",
              "      <td>326</td>\n",
              "      <td>3.89</td>\n",
              "      <td>3.84</td>\n",
              "      <td>2.31</td>\n",
              "    </tr>\n",
              "    <tr>\n",
              "      <th>3</th>\n",
              "      <td>0.23</td>\n",
              "      <td>2</td>\n",
              "      <td>6</td>\n",
              "      <td>7</td>\n",
              "      <td>56.9</td>\n",
              "      <td>65.0</td>\n",
              "      <td>327</td>\n",
              "      <td>4.05</td>\n",
              "      <td>4.07</td>\n",
              "      <td>2.31</td>\n",
              "    </tr>\n",
              "    <tr>\n",
              "      <th>4</th>\n",
              "      <td>0.29</td>\n",
              "      <td>4</td>\n",
              "      <td>2</td>\n",
              "      <td>6</td>\n",
              "      <td>62.4</td>\n",
              "      <td>58.0</td>\n",
              "      <td>334</td>\n",
              "      <td>4.20</td>\n",
              "      <td>4.23</td>\n",
              "      <td>2.63</td>\n",
              "    </tr>\n",
              "    <tr>\n",
              "      <th>5</th>\n",
              "      <td>0.31</td>\n",
              "      <td>2</td>\n",
              "      <td>1</td>\n",
              "      <td>4</td>\n",
              "      <td>63.3</td>\n",
              "      <td>58.0</td>\n",
              "      <td>335</td>\n",
              "      <td>4.34</td>\n",
              "      <td>4.35</td>\n",
              "      <td>2.75</td>\n",
              "    </tr>\n",
              "  </tbody>\n",
              "</table>\n",
              "</div>"
            ],
            "text/plain": [
              "   carat  cut  color  clarity  depth  table  price     x     y     z\n",
              "1   0.23    5      6        4   61.5   55.0    326  3.95  3.98  2.43\n",
              "2   0.21    4      6        5   59.8   61.0    326  3.89  3.84  2.31\n",
              "3   0.23    2      6        7   56.9   65.0    327  4.05  4.07  2.31\n",
              "4   0.29    4      2        6   62.4   58.0    334  4.20  4.23  2.63\n",
              "5   0.31    2      1        4   63.3   58.0    335  4.34  4.35  2.75"
            ]
          },
          "metadata": {
            "tags": []
          },
          "execution_count": 7
        }
      ]
    },
    {
      "cell_type": "code",
      "metadata": {
        "id": "2DKE-KnMCBpr",
        "colab_type": "code",
        "colab": {}
      },
      "source": [
        "import sklearn\n",
        "from sklearn import svm , preprocessing\n",
        "#we shuffle dataframe now \n",
        "df = sklearn.utils.shuffle(df)"
      ],
      "execution_count": 0,
      "outputs": []
    },
    {
      "cell_type": "code",
      "metadata": {
        "id": "8iDMdXSjDIYu",
        "colab_type": "code",
        "colab": {}
      },
      "source": [
        "x = df.drop(\"price\",axis=1).values\n",
        "X = preprocessing.scale(x)\n",
        "y = df[\"price\"].values"
      ],
      "execution_count": 0,
      "outputs": []
    },
    {
      "cell_type": "code",
      "metadata": {
        "id": "peQoK_27Dfgy",
        "colab_type": "code",
        "colab": {}
      },
      "source": [
        "test_size = 200\n",
        "\n",
        "X_train = X[:-test_size]\n",
        "y_train = y[:-test_size] #first 200\n",
        "\n",
        "X_test = X[-test_size:] #last 200\n",
        "y_test = y[-test_size:]"
      ],
      "execution_count": 0,
      "outputs": []
    },
    {
      "cell_type": "code",
      "metadata": {
        "id": "vVLOlN_kE_GO",
        "colab_type": "code",
        "colab": {}
      },
      "source": [
        "clf = svm.SVR(kernel=\"linear\")"
      ],
      "execution_count": 0,
      "outputs": []
    },
    {
      "cell_type": "markdown",
      "metadata": {
        "id": "kXbI23kgFgns",
        "colab_type": "text"
      },
      "source": [
        "*#here we now train the model and then calculate the score on Xtest and ytest*"
      ]
    },
    {
      "cell_type": "code",
      "metadata": {
        "id": "YTkJM5rFFKo2",
        "colab_type": "code",
        "outputId": "4bdb298b-b172-4126-d7eb-e6f65635b6c9",
        "colab": {
          "base_uri": "https://localhost:8080/",
          "height": 52
        }
      },
      "source": [
        "clf.fit(X_train,y_train)"
      ],
      "execution_count": 12,
      "outputs": [
        {
          "output_type": "execute_result",
          "data": {
            "text/plain": [
              "SVR(C=1.0, cache_size=200, coef0=0.0, degree=3, epsilon=0.1, gamma='scale',\n",
              "    kernel='linear', max_iter=-1, shrinking=True, tol=0.001, verbose=False)"
            ]
          },
          "metadata": {
            "tags": []
          },
          "execution_count": 12
        }
      ]
    },
    {
      "cell_type": "code",
      "metadata": {
        "id": "Zums-5JIFQfr",
        "colab_type": "code",
        "outputId": "7e5623e8-09e4-4b97-8143-ebb88413e3fd",
        "colab": {
          "base_uri": "https://localhost:8080/",
          "height": 34
        }
      },
      "source": [
        "clf.score(X_test,y_test) #it is going to be r squared , 0 is bad (1.) anything is good"
      ],
      "execution_count": 13,
      "outputs": [
        {
          "output_type": "execute_result",
          "data": {
            "text/plain": [
              "0.8707613057078287"
            ]
          },
          "metadata": {
            "tags": []
          },
          "execution_count": 13
        }
      ]
    },
    {
      "cell_type": "markdown",
      "metadata": {
        "id": "JBuD4OoTHJj8",
        "colab_type": "text"
      },
      "source": [
        "*# we wanna see what it actually predict*   This step not necessary only for geeks :P"
      ]
    },
    {
      "cell_type": "markdown",
      "metadata": {
        "id": "j-RZ83ahIIbG",
        "colab_type": "text"
      },
      "source": [
        "# the output of clf.score will change if we change the **kernel **"
      ]
    },
    {
      "cell_type": "code",
      "metadata": {
        "id": "aTdpeg1aGR4v",
        "colab_type": "code",
        "outputId": "5ef4d536-48ec-4ef5-e530-99e3e8cb2c8a",
        "colab": {
          "base_uri": "https://localhost:8080/",
          "height": 1000
        }
      },
      "source": [
        "for X,y in zip(X_test,y_test):\n",
        "  print(f\"Model:{clf.predict([X])[0]},Actual:{y}\") #in predict we always past a list and we wanna predict a list "
      ],
      "execution_count": 14,
      "outputs": [
        {
          "output_type": "stream",
          "text": [
            "Model:4578.7464049389555,Actual:4738\n",
            "Model:3475.814656683737,Actual:4082\n",
            "Model:-170.62474084690894,Actual:593\n",
            "Model:1957.50596081456,Actual:1260\n",
            "Model:-515.0087965557159,Actual:394\n",
            "Model:1237.3700398056321,Actual:873\n",
            "Model:5396.996723692849,Actual:5266\n",
            "Model:4968.557731579839,Actual:5854\n",
            "Model:2122.6772400795244,Actual:1858\n",
            "Model:869.8861998751763,Actual:1013\n",
            "Model:-384.49519894444575,Actual:447\n",
            "Model:622.8043964311755,Actual:1047\n",
            "Model:1747.8057805585759,Actual:1389\n",
            "Model:3480.5644889561518,Actual:3492\n",
            "Model:3090.2549581218072,Actual:2803\n",
            "Model:8734.876704326682,Actual:12182\n",
            "Model:6695.191862019359,Actual:5671\n",
            "Model:2276.3938241393143,Actual:1912\n",
            "Model:253.46469530262902,Actual:625\n",
            "Model:4374.501650323051,Actual:4130\n",
            "Model:5519.042085609351,Actual:6558\n",
            "Model:5044.252194401459,Actual:5683\n",
            "Model:4936.268341357767,Actual:6048\n",
            "Model:8731.474256962585,Actual:8930\n",
            "Model:1863.9748780689997,Actual:1580\n",
            "Model:5614.920453055871,Actual:4984\n",
            "Model:934.0125527335358,Actual:910\n",
            "Model:5380.378259592789,Actual:5439\n",
            "Model:4451.066207416427,Actual:4755\n",
            "Model:2909.6239024204397,Actual:2777\n",
            "Model:6371.067291188807,Actual:5720\n",
            "Model:4176.9894446525495,Actual:3968\n",
            "Model:4583.76786383408,Actual:3579\n",
            "Model:1356.6835451631996,Actual:1129\n",
            "Model:141.03284420347563,Actual:581\n",
            "Model:4597.887387116869,Actual:3838\n",
            "Model:3680.8410392328733,Actual:2701\n",
            "Model:2757.0137975559583,Actual:2312\n",
            "Model:2244.367395656025,Actual:1996\n",
            "Model:4445.543852293578,Actual:3568\n",
            "Model:3900.576145431521,Actual:3648\n",
            "Model:1445.700975730569,Actual:1001\n",
            "Model:6203.060350694141,Actual:5121\n",
            "Model:1038.4376601546755,Actual:828\n",
            "Model:11315.64918583388,Actual:15594\n",
            "Model:1035.1114459828918,Actual:1090\n",
            "Model:6896.444465516897,Actual:5055\n",
            "Model:6615.443447403419,Actual:5444\n",
            "Model:2253.4844411732556,Actual:1851\n",
            "Model:394.42008075544527,Actual:683\n",
            "Model:6822.402173561097,Actual:9656\n",
            "Model:13156.422244196328,Actual:13065\n",
            "Model:3190.6811265946662,Actual:2735\n",
            "Model:615.3452055989974,Actual:730\n",
            "Model:741.6244576751656,Actual:995\n",
            "Model:507.6764430402609,Actual:575\n",
            "Model:1875.4693240740946,Actual:1297\n",
            "Model:-241.3194678857867,Actual:659\n",
            "Model:4074.2999431429957,Actual:3391\n",
            "Model:626.3766996251102,Actual:660\n",
            "Model:588.9192352319051,Actual:827\n",
            "Model:6241.370894569149,Actual:5174\n",
            "Model:1083.2349535278204,Actual:902\n",
            "Model:771.9164088827438,Actual:1107\n",
            "Model:5146.185748966343,Actual:4244\n",
            "Model:4305.047531149327,Actual:4924\n",
            "Model:4270.325759047415,Actual:3302\n",
            "Model:8893.887824503128,Actual:10278\n",
            "Model:238.588184254726,Actual:481\n",
            "Model:4864.492286130859,Actual:4851\n",
            "Model:4384.6976840993575,Actual:3993\n",
            "Model:521.3681776324634,Actual:689\n",
            "Model:12233.173589446742,Actual:16914\n",
            "Model:5430.601231031227,Actual:5580\n",
            "Model:1072.3220354539094,Actual:899\n",
            "Model:1041.0843000831605,Actual:779\n",
            "Model:1644.2041138332902,Actual:1323\n",
            "Model:4545.963296316494,Actual:4395\n",
            "Model:472.063340036947,Actual:768\n",
            "Model:2241.132758487198,Actual:1827\n",
            "Model:5256.120557648139,Actual:6787\n",
            "Model:8858.266610191415,Actual:12499\n",
            "Model:3021.8619436837052,Actual:2671\n",
            "Model:2020.5835825743288,Actual:1847\n",
            "Model:1738.769345861341,Actual:1580\n",
            "Model:1156.1639366197874,Actual:1076\n",
            "Model:6758.863525396106,Actual:8545\n",
            "Model:2682.363420682312,Actual:2254\n",
            "Model:427.68666800497795,Actual:718\n",
            "Model:-24.961336044185828,Actual:631\n",
            "Model:115.48622565707547,Actual:563\n",
            "Model:8943.4819043602,Actual:7923\n",
            "Model:4582.872285932523,Actual:4580\n",
            "Model:3778.3247880551667,Actual:3734\n",
            "Model:4431.496288900871,Actual:4319\n",
            "Model:986.4773453375601,Actual:1299\n",
            "Model:10144.924332682618,Actual:5688\n",
            "Model:1027.0149209274336,Actual:1197\n",
            "Model:1894.1024307852958,Actual:1590\n",
            "Model:1366.3724317957967,Actual:1375\n",
            "Model:4760.183609729002,Actual:4817\n",
            "Model:-154.62943990085932,Actual:477\n",
            "Model:220.4112157246068,Actual:765\n",
            "Model:2970.288581376471,Actual:2517\n",
            "Model:726.5405145566965,Actual:1031\n",
            "Model:1035.28540003845,Actual:749\n",
            "Model:6734.669534642655,Actual:5963\n",
            "Model:4159.254335922358,Actual:4600\n",
            "Model:1852.1103573218738,Actual:1274\n",
            "Model:3117.8606678969413,Actual:2942\n",
            "Model:312.08206648817304,Actual:687\n",
            "Model:9038.767893692195,Actual:10640\n",
            "Model:7752.587766605003,Actual:7056\n",
            "Model:9444.585989308864,Actual:8758\n",
            "Model:2258.9083979161887,Actual:2141\n",
            "Model:5273.753300779903,Actual:5917\n",
            "Model:6513.032707531746,Actual:4916\n",
            "Model:3639.755934930769,Actual:2907\n",
            "Model:4482.475917386679,Actual:3597\n",
            "Model:6752.063774426559,Actual:7219\n",
            "Model:1930.4195006027505,Actual:1289\n",
            "Model:6019.90468382649,Actual:4268\n",
            "Model:8386.270617705333,Actual:8365\n",
            "Model:6037.364721650964,Actual:7038\n",
            "Model:12756.024240034425,Actual:13065\n",
            "Model:2002.6209666344394,Actual:1273\n",
            "Model:-439.0274488643977,Actual:407\n",
            "Model:2519.1135676298845,Actual:2234\n",
            "Model:2476.7086783129066,Actual:2023\n",
            "Model:657.3702089136164,Actual:969\n",
            "Model:363.8686712653416,Actual:625\n",
            "Model:3885.5977478669047,Actual:3648\n",
            "Model:874.6784961037501,Actual:810\n",
            "Model:1258.4901995970927,Actual:1205\n",
            "Model:11806.461999371677,Actual:9850\n",
            "Model:2409.6955512736363,Actual:1662\n",
            "Model:4511.494748697609,Actual:4836\n",
            "Model:6204.581769306858,Actual:5779\n",
            "Model:533.9817743437766,Actual:586\n",
            "Model:333.98196215957887,Actual:844\n",
            "Model:5282.216922333975,Actual:6522\n",
            "Model:667.1107027043568,Actual:755\n",
            "Model:13091.190432353109,Actual:12508\n",
            "Model:5449.202086224924,Actual:7507\n",
            "Model:3236.6615597950827,Actual:2484\n",
            "Model:977.6261317282151,Actual:866\n",
            "Model:4718.774886899988,Actual:4704\n",
            "Model:11416.908282847202,Actual:10184\n",
            "Model:1910.3798288270684,Actual:1786\n",
            "Model:682.4442887455566,Actual:730\n",
            "Model:8255.631693616633,Actual:10145\n",
            "Model:6018.436380714306,Actual:10797\n",
            "Model:2204.6495448203477,Actual:2117\n",
            "Model:4290.122717722364,Actual:4400\n",
            "Model:311.794156638251,Actual:818\n",
            "Model:-100.72889221928563,Actual:647\n",
            "Model:7213.970429806605,Actual:15464\n",
            "Model:-229.41791157633406,Actual:473\n",
            "Model:5164.038352662311,Actual:6399\n",
            "Model:6753.291017421591,Actual:8079\n",
            "Model:2275.477004334317,Actual:2048\n",
            "Model:1651.616372998824,Actual:1323\n",
            "Model:6166.751101960479,Actual:6335\n",
            "Model:2090.7588098856845,Actual:1664\n",
            "Model:240.45783632232224,Actual:802\n",
            "Model:283.7127329767941,Actual:514\n",
            "Model:107.57276011254817,Actual:648\n",
            "Model:5092.891894272325,Actual:4366\n",
            "Model:1215.0305868474634,Actual:1294\n",
            "Model:8265.593467609411,Actual:10080\n",
            "Model:6206.656595083483,Actual:7128\n",
            "Model:927.8288859310901,Actual:764\n",
            "Model:260.70330682873737,Actual:802\n",
            "Model:9804.997023107595,Actual:12880\n",
            "Model:661.7963126388563,Actual:965\n",
            "Model:298.4076405209553,Actual:673\n",
            "Model:469.8607250253335,Actual:530\n",
            "Model:1767.0582316678674,Actual:1690\n",
            "Model:2398.2897493341716,Actual:2057\n",
            "Model:2196.930142240338,Actual:1812\n",
            "Model:622.0203815868867,Actual:737\n",
            "Model:-28.78868008610243,Actual:535\n",
            "Model:3221.0777117760645,Actual:2745\n",
            "Model:445.71682415307987,Actual:923\n",
            "Model:5076.38531454429,Actual:5194\n",
            "Model:6230.988173841361,Actual:9146\n",
            "Model:3638.1841756933086,Actual:3377\n",
            "Model:4137.85461350324,Actual:4173\n",
            "Model:4474.244409239238,Actual:4105\n",
            "Model:651.23257925712,Actual:1013\n",
            "Model:220.71631252938596,Actual:743\n",
            "Model:4724.621156977068,Actual:4608\n",
            "Model:6050.855072804645,Actual:10709\n",
            "Model:931.9954087993701,Actual:853\n",
            "Model:243.95583607630988,Actual:765\n",
            "Model:2527.8909082434325,Actual:2007\n",
            "Model:8677.837578304401,Actual:11804\n",
            "Model:2375.8331879616844,Actual:1622\n",
            "Model:423.7713153000441,Actual:854\n",
            "Model:4707.0023332367255,Actual:3674\n"
          ],
          "name": "stdout"
        }
      ]
    },
    {
      "cell_type": "code",
      "metadata": {
        "id": "1mRbglVlHIUE",
        "colab_type": "code",
        "outputId": "30fb9d80-6745-45b9-d61d-a6dc202b809c",
        "colab": {
          "base_uri": "https://localhost:8080/",
          "height": 905
        }
      },
      "source": [
        "clf.predict(X_test)"
      ],
      "execution_count": 15,
      "outputs": [
        {
          "output_type": "execute_result",
          "data": {
            "text/plain": [
              "array([ 4578.74640494,  3475.81465668,  -170.62474085,  1957.50596081,\n",
              "        -515.00879656,  1237.37003981,  5396.99672369,  4968.55773158,\n",
              "        2122.67724008,   869.88619988,  -384.49519894,   622.80439643,\n",
              "        1747.80578056,  3480.56448896,  3090.25495812,  8734.87670433,\n",
              "        6695.19186202,  2276.39382414,   253.4646953 ,  4374.50165032,\n",
              "        5519.04208561,  5044.2521944 ,  4936.26834136,  8731.47425696,\n",
              "        1863.97487807,  5614.92045306,   934.01255273,  5380.37825959,\n",
              "        4451.06620742,  2909.62390242,  6371.06729119,  4176.98944465,\n",
              "        4583.76786383,  1356.68354516,   141.0328442 ,  4597.88738712,\n",
              "        3680.84103923,  2757.01379756,  2244.36739566,  4445.54385229,\n",
              "        3900.57614543,  1445.70097573,  6203.06035069,  1038.43766015,\n",
              "       11315.64918583,  1035.11144598,  6896.44446552,  6615.4434474 ,\n",
              "        2253.48444117,   394.42008076,  6822.40217356, 13156.4222442 ,\n",
              "        3190.68112659,   615.3452056 ,   741.62445768,   507.67644304,\n",
              "        1875.46932407,  -241.31946789,  4074.29994314,   626.37669963,\n",
              "         588.91923523,  6241.37089457,  1083.23495353,   771.91640888,\n",
              "        5146.18574897,  4305.04753115,  4270.32575905,  8893.8878245 ,\n",
              "         238.58818425,  4864.49228613,  4384.6976841 ,   521.36817763,\n",
              "       12233.17358945,  5430.60123103,  1072.32203545,  1041.08430008,\n",
              "        1644.20411383,  4545.96329632,   472.06334004,  2241.13275849,\n",
              "        5256.12055765,  8858.26661019,  3021.86194368,  2020.58358257,\n",
              "        1738.76934586,  1156.16393662,  6758.8635254 ,  2682.36342068,\n",
              "         427.686668  ,   -24.96133604,   115.48622566,  8943.48190436,\n",
              "        4582.87228593,  3778.32478806,  4431.4962889 ,   986.47734534,\n",
              "       10144.92433268,  1027.01492093,  1894.10243079,  1366.3724318 ,\n",
              "        4760.18360973,  -154.6294399 ,   220.41121572,  2970.28858138,\n",
              "         726.54051456,  1035.28540004,  6734.66953464,  4159.25433592,\n",
              "        1852.11035732,  3117.8606679 ,   312.08206649,  9038.76789369,\n",
              "        7752.58776661,  9444.58598931,  2258.90839792,  5273.75330078,\n",
              "        6513.03270753,  3639.75593493,  4482.47591739,  6752.06377443,\n",
              "        1930.4195006 ,  6019.90468383,  8386.27061771,  6037.36472165,\n",
              "       12756.02424003,  2002.62096663,  -439.02744886,  2519.11356763,\n",
              "        2476.70867831,   657.37020891,   363.86867127,  3885.59774787,\n",
              "         874.6784961 ,  1258.4901996 , 11806.46199937,  2409.69555127,\n",
              "        4511.4947487 ,  6204.58176931,   533.98177434,   333.98196216,\n",
              "        5282.21692233,   667.1107027 , 13091.19043235,  5449.20208622,\n",
              "        3236.6615598 ,   977.62613173,  4718.7748869 , 11416.90828285,\n",
              "        1910.37982883,   682.44428875,  8255.63169362,  6018.43638071,\n",
              "        2204.64954482,  4290.12271772,   311.79415664,  -100.72889222,\n",
              "        7213.97042981,  -229.41791158,  5164.03835266,  6753.29101742,\n",
              "        2275.47700433,  1651.616373  ,  6166.75110196,  2090.75880989,\n",
              "         240.45783632,   283.71273298,   107.57276011,  5092.89189427,\n",
              "        1215.03058685,  8265.59346761,  6206.65659508,   927.82888593,\n",
              "         260.70330683,  9804.99702311,   661.79631264,   298.40764052,\n",
              "         469.86072503,  1767.05823167,  2398.28974933,  2196.93014224,\n",
              "         622.02038159,   -28.78868009,  3221.07771178,   445.71682415,\n",
              "        5076.38531454,  6230.98817384,  3638.18417569,  4137.8546135 ,\n",
              "        4474.24440924,   651.23257926,   220.71631253,  4724.62115698,\n",
              "        6050.8550728 ,   931.9954088 ,   243.95583608,  2527.89090824,\n",
              "        8677.8375783 ,  2375.83318796,   423.7713153 ,  4707.00233324])"
            ]
          },
          "metadata": {
            "tags": []
          },
          "execution_count": 15
        }
      ]
    },
    {
      "cell_type": "markdown",
      "metadata": {
        "id": "2oS4ch7wJzTT",
        "colab_type": "text"
      },
      "source": [
        "************************************************************************************************************** ok "
      ]
    },
    {
      "cell_type": "markdown",
      "metadata": {
        "id": "IZIl9g5ZJsXa",
        "colab_type": "text"
      },
      "source": [
        "*#lets try this by linear regression :P*"
      ]
    },
    {
      "cell_type": "code",
      "metadata": {
        "id": "mwUKbdThIsXZ",
        "colab_type": "code",
        "colab": {}
      },
      "source": [
        "from sklearn.linear_model import LinearRegression"
      ],
      "execution_count": 0,
      "outputs": []
    },
    {
      "cell_type": "code",
      "metadata": {
        "id": "MktVNSC3LvjZ",
        "colab_type": "code",
        "colab": {}
      },
      "source": [
        "X = df.drop(\"price\",axis=1).values\n",
        "y = df[\"price\"].values"
      ],
      "execution_count": 0,
      "outputs": []
    },
    {
      "cell_type": "code",
      "metadata": {
        "id": "rnLDdJPQLvXV",
        "colab_type": "code",
        "colab": {}
      },
      "source": [
        "test_size = 200\n",
        "\n",
        "X_train = X[:-test_size]\n",
        "y_train = y[:-test_size] #first 200\n",
        "\n",
        "X_test = X[-test_size:] #last 200\n",
        "y_test = y[-test_size:]"
      ],
      "execution_count": 0,
      "outputs": []
    },
    {
      "cell_type": "code",
      "metadata": {
        "id": "k_WoNUMaKFT_",
        "colab_type": "code",
        "colab": {}
      },
      "source": [
        "model = LinearRegression()"
      ],
      "execution_count": 0,
      "outputs": []
    },
    {
      "cell_type": "code",
      "metadata": {
        "id": "iha0vwVcKRHU",
        "colab_type": "code",
        "outputId": "982eb0b8-9ab7-4311-e84f-5269f76b3e9b",
        "colab": {
          "base_uri": "https://localhost:8080/",
          "height": 34
        }
      },
      "source": [
        "model.fit(X_train,y_train)"
      ],
      "execution_count": 20,
      "outputs": [
        {
          "output_type": "execute_result",
          "data": {
            "text/plain": [
              "LinearRegression(copy_X=True, fit_intercept=True, n_jobs=None, normalize=False)"
            ]
          },
          "metadata": {
            "tags": []
          },
          "execution_count": 20
        }
      ]
    },
    {
      "cell_type": "markdown",
      "metadata": {
        "id": "owcMVvPWMo86",
        "colab_type": "text"
      },
      "source": [
        "*#for geek if we wanna know the intercept & coeff then next line is for you*"
      ]
    },
    {
      "cell_type": "code",
      "metadata": {
        "id": "IVyipsw9MfDI",
        "colab_type": "code",
        "outputId": "23012eb9-323d-411e-be06-fb9c8a9cac32",
        "colab": {
          "base_uri": "https://localhost:8080/",
          "height": 34
        }
      },
      "source": [
        "print(model.intercept_)"
      ],
      "execution_count": 21,
      "outputs": [
        {
          "output_type": "stream",
          "text": [
            "1770.6020410995757\n"
          ],
          "name": "stdout"
        }
      ]
    },
    {
      "cell_type": "code",
      "metadata": {
        "id": "ewCS8zH3M5-o",
        "colab_type": "code",
        "outputId": "48b80f99-c19b-47f3-dba8-48694ec649e5",
        "colab": {
          "base_uri": "https://localhost:8080/",
          "height": 70
        }
      },
      "source": [
        "print(model.coef_)"
      ],
      "execution_count": 22,
      "outputs": [
        {
          "output_type": "stream",
          "text": [
            "[10747.76939213   121.05366363   322.62598605   501.78890662\n",
            "   -79.65328462   -26.76401953  -878.05892632    43.07403189\n",
            "   -28.90213438]\n"
          ],
          "name": "stdout"
        }
      ]
    },
    {
      "cell_type": "code",
      "metadata": {
        "id": "RXHk13MhNBby",
        "colab_type": "code",
        "outputId": "4bbed8fd-ee06-4965-c2b8-3c768861cf3f",
        "colab": {
          "base_uri": "https://localhost:8080/",
          "height": 905
        }
      },
      "source": [
        "y_pred = model.predict(X_test)\n",
        "print(y_pred)"
      ],
      "execution_count": 23,
      "outputs": [
        {
          "output_type": "stream",
          "text": [
            "[ 5004.09767144  4068.03964945  -656.03715302  2666.88283563\n",
            " -1124.14581805  2147.01427965  5589.82262501  5355.16555559\n",
            "  2470.7595171   1478.06410774  -909.49583679   291.57194024\n",
            "  2399.75973565  3082.92789658  3221.90794754 10102.39926381\n",
            "  7155.82213931  2443.71643047   257.94403962  4891.29324701\n",
            "  6285.17297768  5387.42879122  5270.53734257 10000.45269506\n",
            "  1739.30790132  6015.50740589   928.0958152   5612.24129473\n",
            "  4648.27978338  3013.91564755  7099.98488147  4415.76967335\n",
            "  4279.46799896  1473.53360455   141.32281163  4652.64510247\n",
            "  4316.52738146  2775.95949305  1687.5593147   5025.97062951\n",
            "  3782.06642513  2195.4114915   6314.74890809  1702.00577026\n",
            " 13556.41972798  1179.55638747  7856.45862824  7450.49353801\n",
            "  1813.94513021  -122.1982701   7978.17198059 15804.46243852\n",
            "  3555.83257481   831.43948125   888.029343    1048.80263163\n",
            "  2409.11823475 -1301.65285764  4253.69987033   519.23066134\n",
            "   675.75448306  6978.78547989  1304.52656648   542.47917042\n",
            "  5300.32768425  4679.26514462  3533.71227712 10135.22493361\n",
            "    70.52645526  5241.96811127  4450.47771451   211.51469445\n",
            " 14534.25453213  5951.97483371  1126.12549687  1741.44439313\n",
            "  2357.63650511  4330.73501393   576.12960453  1355.49894158\n",
            "  5871.62881049 10289.44526861  3216.80946045  2208.4506431\n",
            "  1646.74312994  1337.36326328  7830.58381183  2573.81281082\n",
            "   421.42543617  -506.86514982   515.92911382  9897.17439582\n",
            "  4979.60806543  3626.61926732  4377.07657004   852.14121773\n",
            " 11292.30869617   555.84965802  1497.61619016  1065.05895614\n",
            "  5371.9612927   -813.69693306   -74.13194278  2744.91934882\n",
            "   699.53048362  1596.9729296   6935.16092048  4384.17221907\n",
            "  2502.54323036  2863.83342411   873.02237489 10651.11295586\n",
            "  8264.62396721 10509.21527219  1725.74664188  5792.23656916\n",
            "  7130.16976051  4226.00617196  4451.39108626  7409.41530919\n",
            "  2673.83990751  6242.79513165  9337.3561247   6683.26808871\n",
            " 14591.54514683  1244.17817529 -1121.37925679  1990.11405036\n",
            "  2085.87172872   363.897352     400.41771801  4366.49699309\n",
            "   663.93767367   763.89409864 13513.66516114  2205.64569352\n",
            "  4424.74000214  6805.13960539   903.82032877   473.234205\n",
            "  6061.21187679   415.56598564 15259.80044454  6284.09772032\n",
            "  3602.23733822  1097.98906532  4954.477522   13071.61448785\n",
            "  2022.41260423   898.26878367  9208.36323429  7430.18161927\n",
            "  1571.73977875  4650.08989076  -301.41116517  -726.02068036\n",
            "  9194.94192317 -1007.95517636  5802.74230117  7834.89188251\n",
            "  1753.79341351  2247.30801686  6766.14349418  2050.38166622\n",
            "   148.62206881   457.84052461  -286.99664489  5323.38222647\n",
            "   857.16578693  9346.47967524  6907.15879395  1385.81497748\n",
            "   229.09313815 11235.6152494    783.14779332   303.50773944\n",
            "  1233.4429067   2025.39925858  1902.18689794  2191.98088369\n",
            "  1003.89026448   110.11232504  3665.34537256   -67.27943183\n",
            "  5236.21904985  7579.20893821  3267.59461937  4157.73400754\n",
            "  3980.87440746   980.14117148   -43.83327515  4667.50676324\n",
            "  7333.40917813   988.96355089   -72.95929024  3137.70509286\n",
            "  9989.08788999  2673.30762149   366.82326264  4873.58904435]\n"
          ],
          "name": "stdout"
        }
      ]
    },
    {
      "cell_type": "code",
      "metadata": {
        "id": "e1-50BFnN7dJ",
        "colab_type": "code",
        "colab": {}
      },
      "source": [
        ""
      ],
      "execution_count": 0,
      "outputs": []
    }
  ]
}